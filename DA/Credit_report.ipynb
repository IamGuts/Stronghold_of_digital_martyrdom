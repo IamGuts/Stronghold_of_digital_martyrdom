{
 "cells": [
  {
   "cell_type": "markdown",
   "id": "2e2ff3ef",
   "metadata": {},
   "source": [
    "В архиве во вложении данные по выдачам кредитов и платежам: плановым и фактическим. Данные актуальны на 08.12.2022. Проанализируйте характер поведения клиентов с точки зрения просрочки: какая динамика просрочки, наблюдается ли рост или снижение?\n",
    "\n",
    "order_id – номер заявки\n",
    "\n",
    "created_at - дата создания заявки\n",
    "\n",
    "put_at - дата выдачи\n",
    "\n",
    "closed_at - дата закрытия\n",
    "\n",
    "issued_sum - сумма выдачи\n",
    "\n",
    "plan_at - дата планового платежа\n",
    "\n",
    "plan_sum_total - сумма планового платежа (накопленным итогом)\n",
    "\n",
    "paid_at - дата фактического платежа\n",
    "\n",
    "paid_sum - сумма фактического платежа\n",
    "\n",
    "\n",
    "\n",
    "Инструменты: python, jupyter notebook\n",
    "\n",
    "\n",
    "ПРИМЕЧАНИЯ:\n",
    "\n",
    "Просрочка — это нарушение должником сроков и/или объёмов исполнения обязательств, предусмотренных договором (графиком платежей).\n",
    "\n",
    "данные для анализа к задаче в папке\n",
    "\n",
    "в архиве три файла с данными"
   ]
  },
  {
   "cell_type": "code",
   "execution_count": null,
   "id": "a85a32fc",
   "metadata": {},
   "outputs": [],
   "source": [
    "import pandas as pd\n",
    "import numpy as np\n",
    "import missingno as mno"
   ]
  }
 ],
 "metadata": {
  "kernelspec": {
   "display_name": "Python 3",
   "language": "python",
   "name": "python3"
  },
  "language_info": {
   "name": "python",
   "version": "3.13.2"
  }
 },
 "nbformat": 4,
 "nbformat_minor": 5
}
